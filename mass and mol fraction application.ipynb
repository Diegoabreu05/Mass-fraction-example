{
 "cells": [
  {
   "cell_type": "markdown",
   "metadata": {},
   "source": [
    "# Example of mass and mol fraction application\n",
    "\n",
    "The formation of glassy alloys in high entropy alloy systems (High Entropy Alloys ,HEAs) has recently been investigated. Due to their high strength and ductility properties, they are of attractive interest as structural materials. The $(TiZrNbCu)_{1-a} Ni_a$ alloy is a potential HEAs system. \n",
    "\n",
    "**Calculate the required mass of each metal (Ti, Zr, Nb, Cu and Ni) with $a =  0.125$ to make 50 g of this alloy**. Assume you have 100% of efficiency in the foundry.\n",
    "\n",
    "$$(TiZrNbCu)_{1-a} Ni_a$$\n",
    "\n",
    "|Element|$Ni$|$Nb$|$Ti$|$Cu$|$Zr$|\n",
    "|:-:|:-:|:-:|:-:|:-:|:-:|\n",
    "|Atomic mass [$M_{i}\\frac{g}{mol}$]|58.693|92.900|47.867|63.546|91.294|\n",
    "|Mol fraction $x_{i}$|a = 0.125|$\\frac{1-x_{Ni}}{4}$|$\\frac{1-x_{Ni}}{4}$|$\\frac{1-x_{Ni}}{4}$|$\\frac{1-x_{Ni}}{4}$|\n",
    "\n",
    "\n",
    "\n",
    "$m_i=m_Tw_i$\n",
    "\n",
    "$w_i=\\frac{x_iM_i}{\\overline{M}}$\n",
    "\n",
    "$\\overline{M}=\\sum{x_iM_i}$      *(This formula is a simple mixing rule)*\n",
    "\n",
    "Where:\n",
    "\n",
    "* $m_i$ is the mass of $i$-th componet [g].\n",
    "* $m_T$ is total mass of the mixture [g].\n",
    "* $w_i$ is the mass fraction of $i$-th componet in the alloy [g/g].\n",
    "* $x_i$ is the mol fraction of $i$-th componet in the alloy [mol/mol].\n",
    "* $M_i$ is the atomic mass [g/mol].\n",
    "* $\\overline{M}$ is the average atomic mass [g/mol]."
   ]
  },
  {
   "cell_type": "code",
   "execution_count": 1,
   "metadata": {},
   "outputs": [],
   "source": [
    "import numpy as np\n",
    "import pandas as pd"
   ]
  },
  {
   "cell_type": "code",
   "execution_count": 2,
   "metadata": {},
   "outputs": [
    {
     "data": {
      "text/html": [
       "<div>\n",
       "<style scoped>\n",
       "    .dataframe tbody tr th:only-of-type {\n",
       "        vertical-align: middle;\n",
       "    }\n",
       "\n",
       "    .dataframe tbody tr th {\n",
       "        vertical-align: top;\n",
       "    }\n",
       "\n",
       "    .dataframe thead th {\n",
       "        text-align: right;\n",
       "    }\n",
       "</style>\n",
       "<table border=\"1\" class=\"dataframe\">\n",
       "  <thead>\n",
       "    <tr style=\"text-align: right;\">\n",
       "      <th></th>\n",
       "      <th>$m_i [g]$</th>\n",
       "    </tr>\n",
       "  </thead>\n",
       "  <tbody>\n",
       "    <tr>\n",
       "      <th>Ni</th>\n",
       "      <td>5.094832</td>\n",
       "    </tr>\n",
       "    <tr>\n",
       "      <th>Nb</th>\n",
       "      <td>14.112285</td>\n",
       "    </tr>\n",
       "    <tr>\n",
       "      <th>Ti</th>\n",
       "      <td>7.271396</td>\n",
       "    </tr>\n",
       "    <tr>\n",
       "      <th>Cu</th>\n",
       "      <td>9.653167</td>\n",
       "    </tr>\n",
       "    <tr>\n",
       "      <th>Zr</th>\n",
       "      <td>13.868320</td>\n",
       "    </tr>\n",
       "  </tbody>\n",
       "</table>\n",
       "</div>"
      ],
      "text/plain": [
       "    $m_i [g]$\n",
       "Ni   5.094832\n",
       "Nb  14.112285\n",
       "Ti   7.271396\n",
       "Cu   9.653167\n",
       "Zr  13.868320"
      ]
     },
     "execution_count": 2,
     "metadata": {},
     "output_type": "execute_result"
    }
   ],
   "source": [
    "mt = 50\n",
    "a = 0.125\n",
    "names = ['Ni','Nb','Ti','Cu','Zr']\n",
    "M = [58.693,92.900,47.867,63.546,91.294]\n",
    "x = np.zeros(len(names))\n",
    "x[0] = a\n",
    "x[1:] = (1-x[0])/4\n",
    "M_average = np.sum(x*M)\n",
    "w = x*M/M_average\n",
    "m = mt*w\n",
    "df_result = pd.DataFrame(index = names)\n",
    "df_result['$m_i [g]$'] = m\n",
    "df_result"
   ]
  },
  {
   "cell_type": "code",
   "execution_count": 3,
   "metadata": {},
   "outputs": [
    {
     "name": "stdout",
     "output_type": "stream",
     "text": [
      "Verify total mass = 49.99999999999999 g\n",
      "Average atomic mass = 72.00065625 g/mol\n"
     ]
    }
   ],
   "source": [
    "print('Verify total mass =',sum(m),'g')\n",
    "print('Average atomic mass =',M_average,'g/mol')"
   ]
  },
  {
   "cell_type": "markdown",
   "metadata": {},
   "source": [
    "# Additional info\n",
    "\n",
    "Problem inspired by:\n",
    "\n",
    ">Andrew Cunliffe, John Plummer, Ignacio Figueroa, Iain Todd, \"Glass formation in a high entropy alloy system by design\", Intermetallics, Volume 23, 2012, Pages 204-207. https://doi.org/10.1016/j.intermet.2011.12.006\n",
    "\n",
    "More info about Mass Fraction:\n",
    "\n",
    ">https://chemistrygod.com/mass-fraction#:~:text=Summary,is%20always%20equal%20to%20one."
   ]
  }
 ],
 "metadata": {
  "kernelspec": {
   "display_name": "Python 3",
   "language": "python",
   "name": "python3"
  },
  "language_info": {
   "codemirror_mode": {
    "name": "ipython",
    "version": 3
   },
   "file_extension": ".py",
   "mimetype": "text/x-python",
   "name": "python",
   "nbconvert_exporter": "python",
   "pygments_lexer": "ipython3",
   "version": "3.7.1"
  }
 },
 "nbformat": 4,
 "nbformat_minor": 2
}
